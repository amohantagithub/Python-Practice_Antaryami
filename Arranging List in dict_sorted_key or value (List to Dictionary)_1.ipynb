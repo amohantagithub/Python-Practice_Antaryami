{
 "cells": [
  {
   "cell_type": "code",
   "execution_count": 60,
   "metadata": {},
   "outputs": [],
   "source": [
    "x =['Maha', 'Movies', 'Movies', 'Movies', 'Chan', 'Chan', 'Chan', 'Ramay', 'Ramay', 'Chan']"
   ]
  },
  {
   "cell_type": "code",
   "execution_count": 61,
   "metadata": {},
   "outputs": [
    {
     "name": "stdout",
     "output_type": "stream",
     "text": [
      "{'Maha': 1, 'Movies': 3, 'Chan': 4, 'Ramay': 2}\n"
     ]
    }
   ],
   "source": [
    "# To convert the above list to a dictionary where 'key' = element of the list and 'value'= corresponding frequency of the element\n",
    "mydict = {}\n",
    "for j in x:\n",
    "        if j in mydict:\n",
    "            mydict[j]+=1\n",
    "        else:\n",
    "            mydict[j]=1\n",
    "print(mydict) \n",
    "    "
   ]
  },
  {
   "cell_type": "code",
   "execution_count": 62,
   "metadata": {},
   "outputs": [
    {
     "name": "stdout",
     "output_type": "stream",
     "text": [
      "Chan: 4\n",
      "Maha: 1\n",
      "Movies: 3\n",
      "Ramay: 2\n",
      "{'Chan': 4, 'Maha': 1, 'Movies': 3, 'Ramay': 2}\n"
     ]
    }
   ],
   "source": [
    "# To create a new dictionary where elements are sorted according to ascending order of the 'keys' .\n",
    "mydict1={}\n",
    "for key, value in sorted(mydict.items()):\n",
    "    print((key + ': ' +str(value)))\n",
    "    mydict1[key]=value\n",
    "print(mydict1)\n",
    "    \n"
   ]
  },
  {
   "cell_type": "code",
   "execution_count": 63,
   "metadata": {},
   "outputs": [
    {
     "name": "stdout",
     "output_type": "stream",
     "text": [
      "Maha : 1\n",
      "Ramay : 2\n",
      "Movies : 3\n",
      "Chan : 4\n",
      "{'Maha': 1, 'Ramay': 2, 'Movies': 3, 'Chan': 4}\n"
     ]
    }
   ],
   "source": [
    "# To create a new dictionary where elements are sorted according to ascending order of the values.\n",
    "mydict2={}\n",
    "for key in sorted(mydict, key = mydict.get):\n",
    "    print(key + ' : ' + str(mydict[key]))\n",
    "    mydict2[key]=mydict[key]\n",
    "print(mydict2)"
   ]
  },
  {
   "cell_type": "code",
   "execution_count": 64,
   "metadata": {},
   "outputs": [
    {
     "name": "stdout",
     "output_type": "stream",
     "text": [
      "Ramay: 2\n",
      "Movies: 3\n",
      "Maha: 1\n",
      "Chan: 4\n",
      "{'Ramay': 2, 'Movies': 3, 'Maha': 1, 'Chan': 4}\n"
     ]
    }
   ],
   "source": [
    "# To create a new dictionary where elements are sorted according to descending order of the 'keys'.\n",
    "mydict1={}\n",
    "for key, value in sorted(mydict.items(), reverse = True):\n",
    "    print((key + ': ' +str(value)))\n",
    "    mydict1[key]=value\n",
    "print(mydict1)"
   ]
  },
  {
   "cell_type": "code",
   "execution_count": 65,
   "metadata": {},
   "outputs": [
    {
     "name": "stdout",
     "output_type": "stream",
     "text": [
      "Chan : 4\n",
      "Movies : 3\n",
      "Ramay : 2\n",
      "Maha : 1\n",
      "{'Chan': 4, 'Movies': 3, 'Ramay': 2, 'Maha': 1}\n"
     ]
    }
   ],
   "source": [
    "# To create a new dictionary where elements are sorted according to descending order of the values.\n",
    "mydict2={}\n",
    "for key in sorted(mydict, key = mydict.get, reverse = True):\n",
    "    print(key + ' : ' + str(mydict[key]))\n",
    "    mydict2[key]=mydict[key]\n",
    "print(mydict2)\n"
   ]
  },
  {
   "cell_type": "code",
   "execution_count": 66,
   "metadata": {},
   "outputs": [
    {
     "name": "stdout",
     "output_type": "stream",
     "text": [
      "['Chan', 4, 'Movies', 3, 'Ramay', 2, 'Maha', 1]\n"
     ]
    }
   ],
   "source": [
    "# To convert a dictionary to a list.\n",
    "mydict2={'Chan':4, 'Movies':3, 'Ramay':2, 'Maha': 1}\n",
    "a_list =[]\n",
    "for key, value in mydict2.items():\n",
    "    a_list.append(key)\n",
    "    a_list.append(value)\n",
    "print(a_list)"
   ]
  },
  {
   "cell_type": "code",
   "execution_count": null,
   "metadata": {},
   "outputs": [],
   "source": []
  }
 ],
 "metadata": {
  "kernelspec": {
   "display_name": "Python 3",
   "language": "python",
   "name": "python3"
  },
  "language_info": {
   "codemirror_mode": {
    "name": "ipython",
    "version": 3
   },
   "file_extension": ".py",
   "mimetype": "text/x-python",
   "name": "python",
   "nbconvert_exporter": "python",
   "pygments_lexer": "ipython3",
   "version": "3.6.4"
  }
 },
 "nbformat": 4,
 "nbformat_minor": 2
}
