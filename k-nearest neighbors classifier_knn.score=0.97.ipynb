{
 "cells": [
  {
   "cell_type": "code",
   "execution_count": 92,
   "metadata": {},
   "outputs": [],
   "source": [
    "import os\n",
    "import sys\n",
    "import numpy as np\n",
    "import pandas as pd\n",
    "import matplotlib.pyplot as plt\n",
    "import seaborn as sns\n",
    "# machine learning libraries\n",
    "from sklearn import datasets\n",
    "from sklearn.model_selection import train_test_split\n",
    "from sklearn.neighbors import KNeighborsClassifier\n",
    "from sklearn.linear_model import LogisticRegression\n",
    "from sklearn.metrics import confusion_matrix\n",
    "from sklearn.metrics import classification_report\n",
    "from sklearn.metrics import roc_curve\n",
    "from sklearn.metrics import roc_auc_score\n",
    "plt.style.use(\"ggplot\")\n",
    "%matplotlib inline"
   ]
  },
  {
   "cell_type": "code",
   "execution_count": 93,
   "metadata": {
    "scrolled": true
   },
   "outputs": [
    {
     "data": {
      "text/html": [
       "<div>\n",
       "<style scoped>\n",
       "    .dataframe tbody tr th:only-of-type {\n",
       "        vertical-align: middle;\n",
       "    }\n",
       "\n",
       "    .dataframe tbody tr th {\n",
       "        vertical-align: top;\n",
       "    }\n",
       "\n",
       "    .dataframe thead th {\n",
       "        text-align: right;\n",
       "    }\n",
       "</style>\n",
       "<table border=\"1\" class=\"dataframe\">\n",
       "  <thead>\n",
       "    <tr style=\"text-align: right;\">\n",
       "      <th></th>\n",
       "      <th>var0</th>\n",
       "      <th>var1</th>\n",
       "      <th>var2</th>\n",
       "      <th>var3</th>\n",
       "      <th>var4</th>\n",
       "      <th>var5</th>\n",
       "      <th>var6</th>\n",
       "      <th>var7</th>\n",
       "      <th>var8</th>\n",
       "      <th>var9</th>\n",
       "      <th>...</th>\n",
       "      <th>var71</th>\n",
       "      <th>var72</th>\n",
       "      <th>var73</th>\n",
       "      <th>var74</th>\n",
       "      <th>var75</th>\n",
       "      <th>var76</th>\n",
       "      <th>var77</th>\n",
       "      <th>var78</th>\n",
       "      <th>var79</th>\n",
       "      <th>var80</th>\n",
       "    </tr>\n",
       "  </thead>\n",
       "  <tbody>\n",
       "    <tr>\n",
       "      <th>0</th>\n",
       "      <td>NaN</td>\n",
       "      <td>NaN</td>\n",
       "      <td>NaN</td>\n",
       "      <td>NaN</td>\n",
       "      <td>NaN</td>\n",
       "      <td>NaN</td>\n",
       "      <td>NaN</td>\n",
       "      <td>NaN</td>\n",
       "      <td>NaN</td>\n",
       "      <td>NaN</td>\n",
       "      <td>...</td>\n",
       "      <td>0.780088</td>\n",
       "      <td>NaN</td>\n",
       "      <td>NaN</td>\n",
       "      <td>NaN</td>\n",
       "      <td>0.803526</td>\n",
       "      <td>NaN</td>\n",
       "      <td>NaN</td>\n",
       "      <td>NaN</td>\n",
       "      <td>NaN</td>\n",
       "      <td>1</td>\n",
       "    </tr>\n",
       "    <tr>\n",
       "      <th>1</th>\n",
       "      <td>NaN</td>\n",
       "      <td>NaN</td>\n",
       "      <td>NaN</td>\n",
       "      <td>NaN</td>\n",
       "      <td>NaN</td>\n",
       "      <td>NaN</td>\n",
       "      <td>NaN</td>\n",
       "      <td>NaN</td>\n",
       "      <td>NaN</td>\n",
       "      <td>NaN</td>\n",
       "      <td>...</td>\n",
       "      <td>NaN</td>\n",
       "      <td>NaN</td>\n",
       "      <td>NaN</td>\n",
       "      <td>NaN</td>\n",
       "      <td>0.561473</td>\n",
       "      <td>NaN</td>\n",
       "      <td>NaN</td>\n",
       "      <td>NaN</td>\n",
       "      <td>NaN</td>\n",
       "      <td>0</td>\n",
       "    </tr>\n",
       "    <tr>\n",
       "      <th>2</th>\n",
       "      <td>NaN</td>\n",
       "      <td>NaN</td>\n",
       "      <td>NaN</td>\n",
       "      <td>NaN</td>\n",
       "      <td>NaN</td>\n",
       "      <td>NaN</td>\n",
       "      <td>NaN</td>\n",
       "      <td>NaN</td>\n",
       "      <td>NaN</td>\n",
       "      <td>NaN</td>\n",
       "      <td>...</td>\n",
       "      <td>0.817810</td>\n",
       "      <td>NaN</td>\n",
       "      <td>NaN</td>\n",
       "      <td>NaN</td>\n",
       "      <td>NaN</td>\n",
       "      <td>NaN</td>\n",
       "      <td>NaN</td>\n",
       "      <td>NaN</td>\n",
       "      <td>NaN</td>\n",
       "      <td>1</td>\n",
       "    </tr>\n",
       "    <tr>\n",
       "      <th>3</th>\n",
       "      <td>NaN</td>\n",
       "      <td>NaN</td>\n",
       "      <td>NaN</td>\n",
       "      <td>NaN</td>\n",
       "      <td>NaN</td>\n",
       "      <td>NaN</td>\n",
       "      <td>NaN</td>\n",
       "      <td>NaN</td>\n",
       "      <td>NaN</td>\n",
       "      <td>NaN</td>\n",
       "      <td>...</td>\n",
       "      <td>0.734438</td>\n",
       "      <td>0.918015</td>\n",
       "      <td>NaN</td>\n",
       "      <td>NaN</td>\n",
       "      <td>NaN</td>\n",
       "      <td>NaN</td>\n",
       "      <td>NaN</td>\n",
       "      <td>NaN</td>\n",
       "      <td>NaN</td>\n",
       "      <td>0</td>\n",
       "    </tr>\n",
       "    <tr>\n",
       "      <th>4</th>\n",
       "      <td>NaN</td>\n",
       "      <td>NaN</td>\n",
       "      <td>NaN</td>\n",
       "      <td>NaN</td>\n",
       "      <td>NaN</td>\n",
       "      <td>NaN</td>\n",
       "      <td>NaN</td>\n",
       "      <td>NaN</td>\n",
       "      <td>NaN</td>\n",
       "      <td>NaN</td>\n",
       "      <td>...</td>\n",
       "      <td>NaN</td>\n",
       "      <td>NaN</td>\n",
       "      <td>NaN</td>\n",
       "      <td>NaN</td>\n",
       "      <td>NaN</td>\n",
       "      <td>NaN</td>\n",
       "      <td>NaN</td>\n",
       "      <td>NaN</td>\n",
       "      <td>NaN</td>\n",
       "      <td>1</td>\n",
       "    </tr>\n",
       "  </tbody>\n",
       "</table>\n",
       "<p>5 rows × 81 columns</p>\n",
       "</div>"
      ],
      "text/plain": [
       "   var0  var1  var2  var3  var4  var5  var6  var7  var8  var9  ...    \\\n",
       "0   NaN   NaN   NaN   NaN   NaN   NaN   NaN   NaN   NaN   NaN  ...     \n",
       "1   NaN   NaN   NaN   NaN   NaN   NaN   NaN   NaN   NaN   NaN  ...     \n",
       "2   NaN   NaN   NaN   NaN   NaN   NaN   NaN   NaN   NaN   NaN  ...     \n",
       "3   NaN   NaN   NaN   NaN   NaN   NaN   NaN   NaN   NaN   NaN  ...     \n",
       "4   NaN   NaN   NaN   NaN   NaN   NaN   NaN   NaN   NaN   NaN  ...     \n",
       "\n",
       "      var71     var72  var73  var74     var75  var76  var77  var78  var79  \\\n",
       "0  0.780088       NaN    NaN    NaN  0.803526    NaN    NaN    NaN    NaN   \n",
       "1       NaN       NaN    NaN    NaN  0.561473    NaN    NaN    NaN    NaN   \n",
       "2  0.817810       NaN    NaN    NaN       NaN    NaN    NaN    NaN    NaN   \n",
       "3  0.734438  0.918015    NaN    NaN       NaN    NaN    NaN    NaN    NaN   \n",
       "4       NaN       NaN    NaN    NaN       NaN    NaN    NaN    NaN    NaN   \n",
       "\n",
       "   var80  \n",
       "0      1  \n",
       "1      0  \n",
       "2      1  \n",
       "3      0  \n",
       "4      1  \n",
       "\n",
       "[5 rows x 81 columns]"
      ]
     },
     "execution_count": 93,
     "metadata": {},
     "output_type": "execute_result"
    }
   ],
   "source": [
    "Hdata=pd.read_csv('dataset.csv')\n",
    "Hdata.head()"
   ]
  },
  {
   "cell_type": "code",
   "execution_count": 94,
   "metadata": {},
   "outputs": [
    {
     "data": {
      "text/plain": [
       "(1012, 81)"
      ]
     },
     "execution_count": 94,
     "metadata": {},
     "output_type": "execute_result"
    }
   ],
   "source": [
    "Hdata.shape"
   ]
  },
  {
   "cell_type": "code",
   "execution_count": 95,
   "metadata": {},
   "outputs": [
    {
     "name": "stdout",
     "output_type": "stream",
     "text": [
      "<class 'pandas.core.frame.DataFrame'>\n",
      "RangeIndex: 1012 entries, 0 to 1011\n",
      "Data columns (total 81 columns):\n",
      "var0     38 non-null float64\n",
      "var1     1 non-null float64\n",
      "var2     6 non-null float64\n",
      "var3     0 non-null float64\n",
      "var4     1 non-null float64\n",
      "var5     0 non-null float64\n",
      "var6     0 non-null float64\n",
      "var7     1 non-null float64\n",
      "var8     0 non-null float64\n",
      "var9     1 non-null float64\n",
      "var10    0 non-null float64\n",
      "var11    0 non-null float64\n",
      "var12    1 non-null float64\n",
      "var13    4 non-null float64\n",
      "var14    1 non-null float64\n",
      "var15    3 non-null float64\n",
      "var16    2 non-null float64\n",
      "var17    0 non-null float64\n",
      "var18    0 non-null float64\n",
      "var19    0 non-null float64\n",
      "var20    0 non-null float64\n",
      "var21    0 non-null float64\n",
      "var22    0 non-null float64\n",
      "var23    0 non-null float64\n",
      "var24    5 non-null float64\n",
      "var25    1 non-null float64\n",
      "var26    11 non-null float64\n",
      "var27    1 non-null float64\n",
      "var28    5 non-null float64\n",
      "var29    0 non-null float64\n",
      "var30    0 non-null float64\n",
      "var31    0 non-null float64\n",
      "var32    1 non-null float64\n",
      "var33    1 non-null float64\n",
      "var34    0 non-null float64\n",
      "var35    0 non-null float64\n",
      "var36    1 non-null float64\n",
      "var37    0 non-null float64\n",
      "var38    1 non-null float64\n",
      "var39    403 non-null float64\n",
      "var40    12 non-null float64\n",
      "var41    156 non-null float64\n",
      "var42    3 non-null float64\n",
      "var43    14 non-null float64\n",
      "var44    11 non-null float64\n",
      "var45    115 non-null float64\n",
      "var46    3 non-null float64\n",
      "var47    7 non-null float64\n",
      "var48    1 non-null float64\n",
      "var49    3 non-null float64\n",
      "var50    1 non-null float64\n",
      "var51    2 non-null float64\n",
      "var52    0 non-null float64\n",
      "var53    0 non-null float64\n",
      "var54    2 non-null float64\n",
      "var55    3 non-null float64\n",
      "var56    152 non-null float64\n",
      "var57    14 non-null float64\n",
      "var58    126 non-null float64\n",
      "var59    13 non-null float64\n",
      "var60    61 non-null float64\n",
      "var61    592 non-null float64\n",
      "var62    34 non-null float64\n",
      "var63    12 non-null float64\n",
      "var64    2 non-null float64\n",
      "var65    9 non-null float64\n",
      "var66    7 non-null float64\n",
      "var67    5 non-null float64\n",
      "var68    189 non-null float64\n",
      "var69    251 non-null float64\n",
      "var70    18 non-null float64\n",
      "var71    659 non-null float64\n",
      "var72    196 non-null float64\n",
      "var73    46 non-null float64\n",
      "var74    28 non-null float64\n",
      "var75    96 non-null float64\n",
      "var76    1 non-null float64\n",
      "var77    3 non-null float64\n",
      "var78    0 non-null float64\n",
      "var79    13 non-null float64\n",
      "var80    1012 non-null int64\n",
      "dtypes: float64(80), int64(1)\n",
      "memory usage: 640.5 KB\n"
     ]
    }
   ],
   "source": [
    "Hdata.info()"
   ]
  },
  {
   "cell_type": "code",
   "execution_count": 96,
   "metadata": {},
   "outputs": [],
   "source": [
    "Hdata_0=Hdata.fillna(0)"
   ]
  },
  {
   "cell_type": "code",
   "execution_count": 97,
   "metadata": {},
   "outputs": [
    {
     "data": {
      "text/html": [
       "<div>\n",
       "<style scoped>\n",
       "    .dataframe tbody tr th:only-of-type {\n",
       "        vertical-align: middle;\n",
       "    }\n",
       "\n",
       "    .dataframe tbody tr th {\n",
       "        vertical-align: top;\n",
       "    }\n",
       "\n",
       "    .dataframe thead th {\n",
       "        text-align: right;\n",
       "    }\n",
       "</style>\n",
       "<table border=\"1\" class=\"dataframe\">\n",
       "  <thead>\n",
       "    <tr style=\"text-align: right;\">\n",
       "      <th></th>\n",
       "      <th>var0</th>\n",
       "      <th>var1</th>\n",
       "      <th>var2</th>\n",
       "      <th>var3</th>\n",
       "      <th>var4</th>\n",
       "      <th>var5</th>\n",
       "      <th>var6</th>\n",
       "      <th>var7</th>\n",
       "      <th>var8</th>\n",
       "      <th>var9</th>\n",
       "      <th>...</th>\n",
       "      <th>var71</th>\n",
       "      <th>var72</th>\n",
       "      <th>var73</th>\n",
       "      <th>var74</th>\n",
       "      <th>var75</th>\n",
       "      <th>var76</th>\n",
       "      <th>var77</th>\n",
       "      <th>var78</th>\n",
       "      <th>var79</th>\n",
       "      <th>var80</th>\n",
       "    </tr>\n",
       "  </thead>\n",
       "  <tbody>\n",
       "    <tr>\n",
       "      <th>0</th>\n",
       "      <td>0.0</td>\n",
       "      <td>0.0</td>\n",
       "      <td>0.0</td>\n",
       "      <td>0.0</td>\n",
       "      <td>0.0</td>\n",
       "      <td>0.0</td>\n",
       "      <td>0.0</td>\n",
       "      <td>0.0</td>\n",
       "      <td>0.0</td>\n",
       "      <td>0.0</td>\n",
       "      <td>...</td>\n",
       "      <td>0.780088</td>\n",
       "      <td>0.000000</td>\n",
       "      <td>0.0</td>\n",
       "      <td>0.0</td>\n",
       "      <td>0.803526</td>\n",
       "      <td>0.0</td>\n",
       "      <td>0.0</td>\n",
       "      <td>0.0</td>\n",
       "      <td>0.0</td>\n",
       "      <td>1</td>\n",
       "    </tr>\n",
       "    <tr>\n",
       "      <th>1</th>\n",
       "      <td>0.0</td>\n",
       "      <td>0.0</td>\n",
       "      <td>0.0</td>\n",
       "      <td>0.0</td>\n",
       "      <td>0.0</td>\n",
       "      <td>0.0</td>\n",
       "      <td>0.0</td>\n",
       "      <td>0.0</td>\n",
       "      <td>0.0</td>\n",
       "      <td>0.0</td>\n",
       "      <td>...</td>\n",
       "      <td>0.000000</td>\n",
       "      <td>0.000000</td>\n",
       "      <td>0.0</td>\n",
       "      <td>0.0</td>\n",
       "      <td>0.561473</td>\n",
       "      <td>0.0</td>\n",
       "      <td>0.0</td>\n",
       "      <td>0.0</td>\n",
       "      <td>0.0</td>\n",
       "      <td>0</td>\n",
       "    </tr>\n",
       "    <tr>\n",
       "      <th>2</th>\n",
       "      <td>0.0</td>\n",
       "      <td>0.0</td>\n",
       "      <td>0.0</td>\n",
       "      <td>0.0</td>\n",
       "      <td>0.0</td>\n",
       "      <td>0.0</td>\n",
       "      <td>0.0</td>\n",
       "      <td>0.0</td>\n",
       "      <td>0.0</td>\n",
       "      <td>0.0</td>\n",
       "      <td>...</td>\n",
       "      <td>0.817810</td>\n",
       "      <td>0.000000</td>\n",
       "      <td>0.0</td>\n",
       "      <td>0.0</td>\n",
       "      <td>0.000000</td>\n",
       "      <td>0.0</td>\n",
       "      <td>0.0</td>\n",
       "      <td>0.0</td>\n",
       "      <td>0.0</td>\n",
       "      <td>1</td>\n",
       "    </tr>\n",
       "    <tr>\n",
       "      <th>3</th>\n",
       "      <td>0.0</td>\n",
       "      <td>0.0</td>\n",
       "      <td>0.0</td>\n",
       "      <td>0.0</td>\n",
       "      <td>0.0</td>\n",
       "      <td>0.0</td>\n",
       "      <td>0.0</td>\n",
       "      <td>0.0</td>\n",
       "      <td>0.0</td>\n",
       "      <td>0.0</td>\n",
       "      <td>...</td>\n",
       "      <td>0.734438</td>\n",
       "      <td>0.918015</td>\n",
       "      <td>0.0</td>\n",
       "      <td>0.0</td>\n",
       "      <td>0.000000</td>\n",
       "      <td>0.0</td>\n",
       "      <td>0.0</td>\n",
       "      <td>0.0</td>\n",
       "      <td>0.0</td>\n",
       "      <td>0</td>\n",
       "    </tr>\n",
       "    <tr>\n",
       "      <th>4</th>\n",
       "      <td>0.0</td>\n",
       "      <td>0.0</td>\n",
       "      <td>0.0</td>\n",
       "      <td>0.0</td>\n",
       "      <td>0.0</td>\n",
       "      <td>0.0</td>\n",
       "      <td>0.0</td>\n",
       "      <td>0.0</td>\n",
       "      <td>0.0</td>\n",
       "      <td>0.0</td>\n",
       "      <td>...</td>\n",
       "      <td>0.000000</td>\n",
       "      <td>0.000000</td>\n",
       "      <td>0.0</td>\n",
       "      <td>0.0</td>\n",
       "      <td>0.000000</td>\n",
       "      <td>0.0</td>\n",
       "      <td>0.0</td>\n",
       "      <td>0.0</td>\n",
       "      <td>0.0</td>\n",
       "      <td>1</td>\n",
       "    </tr>\n",
       "  </tbody>\n",
       "</table>\n",
       "<p>5 rows × 81 columns</p>\n",
       "</div>"
      ],
      "text/plain": [
       "   var0  var1  var2  var3  var4  var5  var6  var7  var8  var9  ...    \\\n",
       "0   0.0   0.0   0.0   0.0   0.0   0.0   0.0   0.0   0.0   0.0  ...     \n",
       "1   0.0   0.0   0.0   0.0   0.0   0.0   0.0   0.0   0.0   0.0  ...     \n",
       "2   0.0   0.0   0.0   0.0   0.0   0.0   0.0   0.0   0.0   0.0  ...     \n",
       "3   0.0   0.0   0.0   0.0   0.0   0.0   0.0   0.0   0.0   0.0  ...     \n",
       "4   0.0   0.0   0.0   0.0   0.0   0.0   0.0   0.0   0.0   0.0  ...     \n",
       "\n",
       "      var71     var72  var73  var74     var75  var76  var77  var78  var79  \\\n",
       "0  0.780088  0.000000    0.0    0.0  0.803526    0.0    0.0    0.0    0.0   \n",
       "1  0.000000  0.000000    0.0    0.0  0.561473    0.0    0.0    0.0    0.0   \n",
       "2  0.817810  0.000000    0.0    0.0  0.000000    0.0    0.0    0.0    0.0   \n",
       "3  0.734438  0.918015    0.0    0.0  0.000000    0.0    0.0    0.0    0.0   \n",
       "4  0.000000  0.000000    0.0    0.0  0.000000    0.0    0.0    0.0    0.0   \n",
       "\n",
       "   var80  \n",
       "0      1  \n",
       "1      0  \n",
       "2      1  \n",
       "3      0  \n",
       "4      1  \n",
       "\n",
       "[5 rows x 81 columns]"
      ]
     },
     "execution_count": 97,
     "metadata": {},
     "output_type": "execute_result"
    }
   ],
   "source": [
    "Hdata_0.head()"
   ]
  },
  {
   "cell_type": "code",
   "execution_count": 98,
   "metadata": {},
   "outputs": [
    {
     "data": {
      "text/html": [
       "<div>\n",
       "<style scoped>\n",
       "    .dataframe tbody tr th:only-of-type {\n",
       "        vertical-align: middle;\n",
       "    }\n",
       "\n",
       "    .dataframe tbody tr th {\n",
       "        vertical-align: top;\n",
       "    }\n",
       "\n",
       "    .dataframe thead th {\n",
       "        text-align: right;\n",
       "    }\n",
       "</style>\n",
       "<table border=\"1\" class=\"dataframe\">\n",
       "  <thead>\n",
       "    <tr style=\"text-align: right;\">\n",
       "      <th></th>\n",
       "      <th>var0</th>\n",
       "      <th>var1</th>\n",
       "      <th>var2</th>\n",
       "      <th>var3</th>\n",
       "      <th>var4</th>\n",
       "      <th>var5</th>\n",
       "      <th>var6</th>\n",
       "      <th>var7</th>\n",
       "      <th>var8</th>\n",
       "      <th>var9</th>\n",
       "      <th>...</th>\n",
       "      <th>var71</th>\n",
       "      <th>var72</th>\n",
       "      <th>var73</th>\n",
       "      <th>var74</th>\n",
       "      <th>var75</th>\n",
       "      <th>var76</th>\n",
       "      <th>var77</th>\n",
       "      <th>var78</th>\n",
       "      <th>var79</th>\n",
       "      <th>var80</th>\n",
       "    </tr>\n",
       "  </thead>\n",
       "  <tbody>\n",
       "    <tr>\n",
       "      <th>count</th>\n",
       "      <td>1012.000000</td>\n",
       "      <td>1012.000000</td>\n",
       "      <td>1012.000000</td>\n",
       "      <td>1012.0</td>\n",
       "      <td>1012.000000</td>\n",
       "      <td>1012.0</td>\n",
       "      <td>1012.0</td>\n",
       "      <td>1012.000000</td>\n",
       "      <td>1012.0</td>\n",
       "      <td>1012.000000</td>\n",
       "      <td>...</td>\n",
       "      <td>1012.000000</td>\n",
       "      <td>1012.000000</td>\n",
       "      <td>1012.000000</td>\n",
       "      <td>1012.000000</td>\n",
       "      <td>1012.000000</td>\n",
       "      <td>1012.000000</td>\n",
       "      <td>1012.000000</td>\n",
       "      <td>1012.0</td>\n",
       "      <td>1012.000000</td>\n",
       "      <td>1012.000000</td>\n",
       "    </tr>\n",
       "    <tr>\n",
       "      <th>mean</th>\n",
       "      <td>0.020349</td>\n",
       "      <td>0.000350</td>\n",
       "      <td>0.004336</td>\n",
       "      <td>0.0</td>\n",
       "      <td>0.000464</td>\n",
       "      <td>0.0</td>\n",
       "      <td>0.0</td>\n",
       "      <td>0.000423</td>\n",
       "      <td>0.0</td>\n",
       "      <td>0.000752</td>\n",
       "      <td>...</td>\n",
       "      <td>0.515522</td>\n",
       "      <td>0.159689</td>\n",
       "      <td>0.022481</td>\n",
       "      <td>0.019304</td>\n",
       "      <td>0.057418</td>\n",
       "      <td>0.000411</td>\n",
       "      <td>0.001497</td>\n",
       "      <td>0.0</td>\n",
       "      <td>0.006097</td>\n",
       "      <td>0.599802</td>\n",
       "    </tr>\n",
       "    <tr>\n",
       "      <th>std</th>\n",
       "      <td>0.110342</td>\n",
       "      <td>0.011122</td>\n",
       "      <td>0.059011</td>\n",
       "      <td>0.0</td>\n",
       "      <td>0.014751</td>\n",
       "      <td>0.0</td>\n",
       "      <td>0.0</td>\n",
       "      <td>0.013457</td>\n",
       "      <td>0.0</td>\n",
       "      <td>0.023927</td>\n",
       "      <td>...</td>\n",
       "      <td>0.409971</td>\n",
       "      <td>0.338589</td>\n",
       "      <td>0.107622</td>\n",
       "      <td>0.119624</td>\n",
       "      <td>0.190881</td>\n",
       "      <td>0.013078</td>\n",
       "      <td>0.028399</td>\n",
       "      <td>0.0</td>\n",
       "      <td>0.056216</td>\n",
       "      <td>0.490180</td>\n",
       "    </tr>\n",
       "    <tr>\n",
       "      <th>min</th>\n",
       "      <td>0.000000</td>\n",
       "      <td>0.000000</td>\n",
       "      <td>0.000000</td>\n",
       "      <td>0.0</td>\n",
       "      <td>0.000000</td>\n",
       "      <td>0.0</td>\n",
       "      <td>0.0</td>\n",
       "      <td>0.000000</td>\n",
       "      <td>0.0</td>\n",
       "      <td>0.000000</td>\n",
       "      <td>...</td>\n",
       "      <td>0.000000</td>\n",
       "      <td>0.000000</td>\n",
       "      <td>0.000000</td>\n",
       "      <td>0.000000</td>\n",
       "      <td>0.000000</td>\n",
       "      <td>0.000000</td>\n",
       "      <td>0.000000</td>\n",
       "      <td>0.0</td>\n",
       "      <td>0.000000</td>\n",
       "      <td>0.000000</td>\n",
       "    </tr>\n",
       "    <tr>\n",
       "      <th>25%</th>\n",
       "      <td>0.000000</td>\n",
       "      <td>0.000000</td>\n",
       "      <td>0.000000</td>\n",
       "      <td>0.0</td>\n",
       "      <td>0.000000</td>\n",
       "      <td>0.0</td>\n",
       "      <td>0.0</td>\n",
       "      <td>0.000000</td>\n",
       "      <td>0.0</td>\n",
       "      <td>0.000000</td>\n",
       "      <td>...</td>\n",
       "      <td>0.000000</td>\n",
       "      <td>0.000000</td>\n",
       "      <td>0.000000</td>\n",
       "      <td>0.000000</td>\n",
       "      <td>0.000000</td>\n",
       "      <td>0.000000</td>\n",
       "      <td>0.000000</td>\n",
       "      <td>0.0</td>\n",
       "      <td>0.000000</td>\n",
       "      <td>0.000000</td>\n",
       "    </tr>\n",
       "    <tr>\n",
       "      <th>50%</th>\n",
       "      <td>0.000000</td>\n",
       "      <td>0.000000</td>\n",
       "      <td>0.000000</td>\n",
       "      <td>0.0</td>\n",
       "      <td>0.000000</td>\n",
       "      <td>0.0</td>\n",
       "      <td>0.0</td>\n",
       "      <td>0.000000</td>\n",
       "      <td>0.0</td>\n",
       "      <td>0.000000</td>\n",
       "      <td>...</td>\n",
       "      <td>0.635495</td>\n",
       "      <td>0.000000</td>\n",
       "      <td>0.000000</td>\n",
       "      <td>0.000000</td>\n",
       "      <td>0.000000</td>\n",
       "      <td>0.000000</td>\n",
       "      <td>0.000000</td>\n",
       "      <td>0.0</td>\n",
       "      <td>0.000000</td>\n",
       "      <td>1.000000</td>\n",
       "    </tr>\n",
       "    <tr>\n",
       "      <th>75%</th>\n",
       "      <td>0.000000</td>\n",
       "      <td>0.000000</td>\n",
       "      <td>0.000000</td>\n",
       "      <td>0.0</td>\n",
       "      <td>0.000000</td>\n",
       "      <td>0.0</td>\n",
       "      <td>0.0</td>\n",
       "      <td>0.000000</td>\n",
       "      <td>0.0</td>\n",
       "      <td>0.000000</td>\n",
       "      <td>...</td>\n",
       "      <td>0.921398</td>\n",
       "      <td>0.000000</td>\n",
       "      <td>0.000000</td>\n",
       "      <td>0.000000</td>\n",
       "      <td>0.000000</td>\n",
       "      <td>0.000000</td>\n",
       "      <td>0.000000</td>\n",
       "      <td>0.0</td>\n",
       "      <td>0.000000</td>\n",
       "      <td>1.000000</td>\n",
       "    </tr>\n",
       "    <tr>\n",
       "      <th>max</th>\n",
       "      <td>0.979691</td>\n",
       "      <td>0.353806</td>\n",
       "      <td>0.982232</td>\n",
       "      <td>0.0</td>\n",
       "      <td>0.469247</td>\n",
       "      <td>0.0</td>\n",
       "      <td>0.0</td>\n",
       "      <td>0.428085</td>\n",
       "      <td>0.0</td>\n",
       "      <td>0.761168</td>\n",
       "      <td>...</td>\n",
       "      <td>0.996987</td>\n",
       "      <td>0.999477</td>\n",
       "      <td>0.868537</td>\n",
       "      <td>0.966329</td>\n",
       "      <td>0.994136</td>\n",
       "      <td>0.416034</td>\n",
       "      <td>0.681541</td>\n",
       "      <td>0.0</td>\n",
       "      <td>0.854564</td>\n",
       "      <td>1.000000</td>\n",
       "    </tr>\n",
       "  </tbody>\n",
       "</table>\n",
       "<p>8 rows × 81 columns</p>\n",
       "</div>"
      ],
      "text/plain": [
       "              var0         var1         var2    var3         var4    var5  \\\n",
       "count  1012.000000  1012.000000  1012.000000  1012.0  1012.000000  1012.0   \n",
       "mean      0.020349     0.000350     0.004336     0.0     0.000464     0.0   \n",
       "std       0.110342     0.011122     0.059011     0.0     0.014751     0.0   \n",
       "min       0.000000     0.000000     0.000000     0.0     0.000000     0.0   \n",
       "25%       0.000000     0.000000     0.000000     0.0     0.000000     0.0   \n",
       "50%       0.000000     0.000000     0.000000     0.0     0.000000     0.0   \n",
       "75%       0.000000     0.000000     0.000000     0.0     0.000000     0.0   \n",
       "max       0.979691     0.353806     0.982232     0.0     0.469247     0.0   \n",
       "\n",
       "         var6         var7    var8         var9     ...             var71  \\\n",
       "count  1012.0  1012.000000  1012.0  1012.000000     ...       1012.000000   \n",
       "mean      0.0     0.000423     0.0     0.000752     ...          0.515522   \n",
       "std       0.0     0.013457     0.0     0.023927     ...          0.409971   \n",
       "min       0.0     0.000000     0.0     0.000000     ...          0.000000   \n",
       "25%       0.0     0.000000     0.0     0.000000     ...          0.000000   \n",
       "50%       0.0     0.000000     0.0     0.000000     ...          0.635495   \n",
       "75%       0.0     0.000000     0.0     0.000000     ...          0.921398   \n",
       "max       0.0     0.428085     0.0     0.761168     ...          0.996987   \n",
       "\n",
       "             var72        var73        var74        var75        var76  \\\n",
       "count  1012.000000  1012.000000  1012.000000  1012.000000  1012.000000   \n",
       "mean      0.159689     0.022481     0.019304     0.057418     0.000411   \n",
       "std       0.338589     0.107622     0.119624     0.190881     0.013078   \n",
       "min       0.000000     0.000000     0.000000     0.000000     0.000000   \n",
       "25%       0.000000     0.000000     0.000000     0.000000     0.000000   \n",
       "50%       0.000000     0.000000     0.000000     0.000000     0.000000   \n",
       "75%       0.000000     0.000000     0.000000     0.000000     0.000000   \n",
       "max       0.999477     0.868537     0.966329     0.994136     0.416034   \n",
       "\n",
       "             var77   var78        var79        var80  \n",
       "count  1012.000000  1012.0  1012.000000  1012.000000  \n",
       "mean      0.001497     0.0     0.006097     0.599802  \n",
       "std       0.028399     0.0     0.056216     0.490180  \n",
       "min       0.000000     0.0     0.000000     0.000000  \n",
       "25%       0.000000     0.0     0.000000     0.000000  \n",
       "50%       0.000000     0.0     0.000000     1.000000  \n",
       "75%       0.000000     0.0     0.000000     1.000000  \n",
       "max       0.681541     0.0     0.854564     1.000000  \n",
       "\n",
       "[8 rows x 81 columns]"
      ]
     },
     "execution_count": 98,
     "metadata": {},
     "output_type": "execute_result"
    }
   ],
   "source": [
    "Hdata_0.describe()"
   ]
  },
  {
   "cell_type": "code",
   "execution_count": 121,
   "metadata": {},
   "outputs": [],
   "source": [
    "columns_null= [i for i in Hdata_0.keys() if Hdata_0[i].mean() < 0.16]"
   ]
  },
  {
   "cell_type": "code",
   "execution_count": 122,
   "metadata": {},
   "outputs": [],
   "source": [
    "Hdata_0_dropnull = Hdata_0.drop(columns_null, axis=1)"
   ]
  },
  {
   "cell_type": "code",
   "execution_count": 123,
   "metadata": {},
   "outputs": [
    {
     "data": {
      "text/html": [
       "<div>\n",
       "<style scoped>\n",
       "    .dataframe tbody tr th:only-of-type {\n",
       "        vertical-align: middle;\n",
       "    }\n",
       "\n",
       "    .dataframe tbody tr th {\n",
       "        vertical-align: top;\n",
       "    }\n",
       "\n",
       "    .dataframe thead th {\n",
       "        text-align: right;\n",
       "    }\n",
       "</style>\n",
       "<table border=\"1\" class=\"dataframe\">\n",
       "  <thead>\n",
       "    <tr style=\"text-align: right;\">\n",
       "      <th></th>\n",
       "      <th>var39</th>\n",
       "      <th>var61</th>\n",
       "      <th>var68</th>\n",
       "      <th>var69</th>\n",
       "      <th>var71</th>\n",
       "      <th>var80</th>\n",
       "    </tr>\n",
       "  </thead>\n",
       "  <tbody>\n",
       "    <tr>\n",
       "      <th>0</th>\n",
       "      <td>0.000000</td>\n",
       "      <td>0.742548</td>\n",
       "      <td>0.000000</td>\n",
       "      <td>0.000000</td>\n",
       "      <td>0.780088</td>\n",
       "      <td>1</td>\n",
       "    </tr>\n",
       "    <tr>\n",
       "      <th>1</th>\n",
       "      <td>0.310861</td>\n",
       "      <td>0.000000</td>\n",
       "      <td>0.984366</td>\n",
       "      <td>0.955945</td>\n",
       "      <td>0.000000</td>\n",
       "      <td>0</td>\n",
       "    </tr>\n",
       "    <tr>\n",
       "      <th>2</th>\n",
       "      <td>0.000000</td>\n",
       "      <td>0.988848</td>\n",
       "      <td>0.000000</td>\n",
       "      <td>0.000000</td>\n",
       "      <td>0.817810</td>\n",
       "      <td>1</td>\n",
       "    </tr>\n",
       "    <tr>\n",
       "      <th>3</th>\n",
       "      <td>0.000000</td>\n",
       "      <td>0.000000</td>\n",
       "      <td>0.998717</td>\n",
       "      <td>0.990744</td>\n",
       "      <td>0.734438</td>\n",
       "      <td>0</td>\n",
       "    </tr>\n",
       "    <tr>\n",
       "      <th>4</th>\n",
       "      <td>0.000000</td>\n",
       "      <td>0.987820</td>\n",
       "      <td>0.000000</td>\n",
       "      <td>0.000000</td>\n",
       "      <td>0.000000</td>\n",
       "      <td>1</td>\n",
       "    </tr>\n",
       "  </tbody>\n",
       "</table>\n",
       "</div>"
      ],
      "text/plain": [
       "      var39     var61     var68     var69     var71  var80\n",
       "0  0.000000  0.742548  0.000000  0.000000  0.780088      1\n",
       "1  0.310861  0.000000  0.984366  0.955945  0.000000      0\n",
       "2  0.000000  0.988848  0.000000  0.000000  0.817810      1\n",
       "3  0.000000  0.000000  0.998717  0.990744  0.734438      0\n",
       "4  0.000000  0.987820  0.000000  0.000000  0.000000      1"
      ]
     },
     "execution_count": 123,
     "metadata": {},
     "output_type": "execute_result"
    }
   ],
   "source": [
    "Hdata_0_dropnull.head()"
   ]
  },
  {
   "cell_type": "code",
   "execution_count": 124,
   "metadata": {},
   "outputs": [
    {
     "data": {
      "text/html": [
       "<div>\n",
       "<style scoped>\n",
       "    .dataframe tbody tr th:only-of-type {\n",
       "        vertical-align: middle;\n",
       "    }\n",
       "\n",
       "    .dataframe tbody tr th {\n",
       "        vertical-align: top;\n",
       "    }\n",
       "\n",
       "    .dataframe thead th {\n",
       "        text-align: right;\n",
       "    }\n",
       "</style>\n",
       "<table border=\"1\" class=\"dataframe\">\n",
       "  <thead>\n",
       "    <tr style=\"text-align: right;\">\n",
       "      <th></th>\n",
       "      <th>var39</th>\n",
       "      <th>var61</th>\n",
       "      <th>var68</th>\n",
       "      <th>var69</th>\n",
       "      <th>var71</th>\n",
       "      <th>var80</th>\n",
       "    </tr>\n",
       "  </thead>\n",
       "  <tbody>\n",
       "    <tr>\n",
       "      <th>count</th>\n",
       "      <td>1012.000000</td>\n",
       "      <td>1012.000000</td>\n",
       "      <td>1012.000000</td>\n",
       "      <td>1012.000000</td>\n",
       "      <td>1012.000000</td>\n",
       "      <td>1012.000000</td>\n",
       "    </tr>\n",
       "    <tr>\n",
       "      <th>mean</th>\n",
       "      <td>0.282068</td>\n",
       "      <td>0.556830</td>\n",
       "      <td>0.164256</td>\n",
       "      <td>0.209723</td>\n",
       "      <td>0.515522</td>\n",
       "      <td>0.599802</td>\n",
       "    </tr>\n",
       "    <tr>\n",
       "      <th>std</th>\n",
       "      <td>0.370451</td>\n",
       "      <td>0.476922</td>\n",
       "      <td>0.351583</td>\n",
       "      <td>0.379524</td>\n",
       "      <td>0.409971</td>\n",
       "      <td>0.490180</td>\n",
       "    </tr>\n",
       "    <tr>\n",
       "      <th>min</th>\n",
       "      <td>0.000000</td>\n",
       "      <td>0.000000</td>\n",
       "      <td>0.000000</td>\n",
       "      <td>0.000000</td>\n",
       "      <td>0.000000</td>\n",
       "      <td>0.000000</td>\n",
       "    </tr>\n",
       "    <tr>\n",
       "      <th>25%</th>\n",
       "      <td>0.000000</td>\n",
       "      <td>0.000000</td>\n",
       "      <td>0.000000</td>\n",
       "      <td>0.000000</td>\n",
       "      <td>0.000000</td>\n",
       "      <td>0.000000</td>\n",
       "    </tr>\n",
       "    <tr>\n",
       "      <th>50%</th>\n",
       "      <td>0.000000</td>\n",
       "      <td>0.923461</td>\n",
       "      <td>0.000000</td>\n",
       "      <td>0.000000</td>\n",
       "      <td>0.635495</td>\n",
       "      <td>1.000000</td>\n",
       "    </tr>\n",
       "    <tr>\n",
       "      <th>75%</th>\n",
       "      <td>0.636234</td>\n",
       "      <td>0.993342</td>\n",
       "      <td>0.000000</td>\n",
       "      <td>0.000000</td>\n",
       "      <td>0.921398</td>\n",
       "      <td>1.000000</td>\n",
       "    </tr>\n",
       "    <tr>\n",
       "      <th>max</th>\n",
       "      <td>0.989177</td>\n",
       "      <td>0.999475</td>\n",
       "      <td>0.998717</td>\n",
       "      <td>0.998891</td>\n",
       "      <td>0.996987</td>\n",
       "      <td>1.000000</td>\n",
       "    </tr>\n",
       "  </tbody>\n",
       "</table>\n",
       "</div>"
      ],
      "text/plain": [
       "             var39        var61        var68        var69        var71  \\\n",
       "count  1012.000000  1012.000000  1012.000000  1012.000000  1012.000000   \n",
       "mean      0.282068     0.556830     0.164256     0.209723     0.515522   \n",
       "std       0.370451     0.476922     0.351583     0.379524     0.409971   \n",
       "min       0.000000     0.000000     0.000000     0.000000     0.000000   \n",
       "25%       0.000000     0.000000     0.000000     0.000000     0.000000   \n",
       "50%       0.000000     0.923461     0.000000     0.000000     0.635495   \n",
       "75%       0.636234     0.993342     0.000000     0.000000     0.921398   \n",
       "max       0.989177     0.999475     0.998717     0.998891     0.996987   \n",
       "\n",
       "             var80  \n",
       "count  1012.000000  \n",
       "mean      0.599802  \n",
       "std       0.490180  \n",
       "min       0.000000  \n",
       "25%       0.000000  \n",
       "50%       1.000000  \n",
       "75%       1.000000  \n",
       "max       1.000000  "
      ]
     },
     "execution_count": 124,
     "metadata": {},
     "output_type": "execute_result"
    }
   ],
   "source": [
    "Hdata_0_dropnull.describe()"
   ]
  },
  {
   "cell_type": "code",
   "execution_count": 125,
   "metadata": {},
   "outputs": [
    {
     "data": {
      "text/plain": [
       "(1012, 6)"
      ]
     },
     "execution_count": 125,
     "metadata": {},
     "output_type": "execute_result"
    }
   ],
   "source": [
    "Hdata_0_dropnull.shape"
   ]
  },
  {
   "cell_type": "code",
   "execution_count": 126,
   "metadata": {},
   "outputs": [
    {
     "data": {
      "image/png": "[encoded data removed]",
      "text/plain": [
       "<Figure size 432x288 with 1 Axes>"
      ]
     },
     "metadata": {},
     "output_type": "display_data"
    },
    {
     "data": {
      "image/png": "[encoded data removed]",
      "text/plain": [
       "<Figure size 432x288 with 1 Axes>"
      ]
     },
     "metadata": {},
     "output_type": "display_data"
    },
    {
     "data": {
      "image/png": "[encoded data removed]",
      "text/plain": [
       "<Figure size 432x288 with 1 Axes>"
      ]
     },
     "metadata": {},
     "output_type": "display_data"
    },
    {
     "data": {
      "image/png": "[encoded data removed]",
      "text/plain": [
       "<Figure size 432x288 with 1 Axes>"
      ]
     },
     "metadata": {},
     "output_type": "display_data"
    },
    {
     "data": {
      "image/png": "[encoded data removed]",
      "text/plain": [
       "<Figure size 432x288 with 1 Axes>"
      ]
     },
     "metadata": {},
     "output_type": "display_data"
    }
   ],
   "source": [
    "for i in range(5):\n",
    "    x='var80'\n",
    "    y=Hdata_0_dropnull.keys()[i]\n",
    "    title = np.corrcoef(Hdata_0_dropnull[x].values,Hdata_0_dropnull[y].values)[0,1]\n",
    "    a, b = np.polyfit(Hdata_0_dropnull[x].values,Hdata_0_dropnull[y].values, 1)\n",
    "    z=Hdata_0_dropnull[x].values\n",
    "    Hdata_0_dropnull.plot(x='var80', y=Hdata_0_dropnull.keys()[i], kind ='scatter')\n",
    "    plt.plot(z, a*z+b)\n",
    "    plt.xlabel('var80')\n",
    "    plt.ylabel(y)\n",
    "    plt.title(\"Pearson_r : {} \". format(title))"
   ]
  },
  {
   "cell_type": "code",
   "execution_count": 127,
   "metadata": {},
   "outputs": [
    {
     "data": {
      "text/plain": [
       "1    607\n",
       "0    405\n",
       "Name: var80, dtype: int64"
      ]
     },
     "execution_count": 127,
     "metadata": {},
     "output_type": "execute_result"
    }
   ],
   "source": [
    "pd.value_counts(Hdata_0['var80'])"
   ]
  },
  {
   "cell_type": "code",
   "execution_count": 128,
   "metadata": {},
   "outputs": [],
   "source": [
    "X = Hdata_0_dropnull.drop(\"var80\", axis=1)\n",
    "y = Hdata_0_dropnull[\"var80\"]\n",
    "X_train, X_test, y_train, y_test = train_test_split(X, y, test_size=0.2, random_state=21, stratify=y)"
   ]
  },
  {
   "cell_type": "code",
   "execution_count": 129,
   "metadata": {},
   "outputs": [
    {
     "name": "stdout",
     "output_type": "stream",
     "text": [
      "frac X_train 79.94%, X_test 20.06% \n"
     ]
    }
   ],
   "source": [
    "frac_X_train = (X_train.shape[0]/X.shape[0])*100\n",
    "frac_X_test = (X_test.shape[0]/X.shape[0])*100\n",
    "print(\"frac X_train {0:.2f}%, X_test {1:.2f}% \".format(frac_X_train, frac_X_test))"
   ]
  },
  {
   "cell_type": "code",
   "execution_count": 130,
   "metadata": {},
   "outputs": [],
   "source": [
    "knn = KNeighborsClassifier() # default value n_neighbors=5"
   ]
  },
  {
   "cell_type": "code",
   "execution_count": 131,
   "metadata": {},
   "outputs": [
    {
     "data": {
      "text/plain": [
       "KNeighborsClassifier(algorithm='auto', leaf_size=30, metric='minkowski',\n",
       "           metric_params=None, n_jobs=1, n_neighbors=5, p=2,\n",
       "           weights='uniform')"
      ]
     },
     "execution_count": 131,
     "metadata": {},
     "output_type": "execute_result"
    }
   ],
   "source": [
    "knn.fit(X_train, y_train)\n",
    "knn"
   ]
  },
  {
   "cell_type": "code",
   "execution_count": 132,
   "metadata": {},
   "outputs": [
    {
     "data": {
      "text/plain": [
       "pandas.core.series.Series"
      ]
     },
     "execution_count": 132,
     "metadata": {},
     "output_type": "execute_result"
    }
   ],
   "source": [
    "y_pred = knn.predict(X_test)\n",
    "type(y_pred)\n",
    "type(y_test)"
   ]
  },
  {
   "cell_type": "code",
   "execution_count": 133,
   "metadata": {},
   "outputs": [
    {
     "data": {
      "text/plain": [
       "0.9704433497536946"
      ]
     },
     "execution_count": 133,
     "metadata": {},
     "output_type": "execute_result"
    }
   ],
   "source": [
    "# print the accuracy\n",
    "knn.score(X_test, y_test)"
   ]
  },
  {
   "cell_type": "code",
   "execution_count": 134,
   "metadata": {},
   "outputs": [
    {
     "name": "stdout",
     "output_type": "stream",
     "text": [
      "1    122\n",
      "0     81\n",
      "Name: var80, dtype: int64\n"
     ]
    },
    {
     "data": {
      "text/plain": [
       "1    116\n",
       "0     87\n",
       "dtype: int64"
      ]
     },
     "execution_count": 134,
     "metadata": {},
     "output_type": "execute_result"
    }
   ],
   "source": [
    "print(y_test.value_counts())\n",
    "pd.value_counts(y_pred)"
   ]
  },
  {
   "cell_type": "code",
   "execution_count": 135,
   "metadata": {},
   "outputs": [
    {
     "name": "stdout",
     "output_type": "stream",
     "text": [
      "[[ 81   0]\n",
      " [  6 116]]\n"
     ]
    }
   ],
   "source": [
    "print(confusion_matrix(y_test, y_pred))"
   ]
  },
  {
   "cell_type": "code",
   "execution_count": 136,
   "metadata": {},
   "outputs": [
    {
     "name": "stdout",
     "output_type": "stream",
     "text": [
      "[[116   6]\n",
      " [  0  81]]\n",
      "TP 116, FN 6, FP 0, TN 81 \n",
      "accuracy :  0.9704433497536946\n"
     ]
    }
   ],
   "source": [
    "print(confusion_matrix(y_test, y_pred, labels=[1,0]))\n",
    "TN, FP, FN, TP = confusion_matrix(y_test, y_pred, labels=[1,0]).ravel()\n",
    "print(\"TP {}, FN {}, FP {}, TN {} \".format(TN, FP, FN, TP))\n",
    "print(\"accuracy : \", (TP+TN)/(TP+TN+FP+FN))"
   ]
  },
  {
   "cell_type": "code",
   "execution_count": 137,
   "metadata": {},
   "outputs": [
    {
     "name": "stdout",
     "output_type": "stream",
     "text": [
      "             precision    recall  f1-score   support\n",
      "\n",
      "          0       0.93      1.00      0.96        81\n",
      "          1       1.00      0.95      0.97       122\n",
      "\n",
      "avg / total       0.97      0.97      0.97       203\n",
      "\n"
     ]
    }
   ],
   "source": [
    "print(classification_report(y_test, y_pred))"
   ]
  },
  {
   "cell_type": "code",
   "execution_count": 138,
   "metadata": {},
   "outputs": [
    {
     "name": "stdout",
     "output_type": "stream",
     "text": [
      "[[0.8 0.2]\n",
      " [1.  0. ]\n",
      " [0.  1. ]\n",
      " [0.  1. ]\n",
      " [0.6 0.4]\n",
      " [1.  0. ]\n",
      " [0.  1. ]\n",
      " [0.  1. ]\n",
      " [0.  1. ]\n",
      " [1.  0. ]]\n"
     ]
    },
    {
     "data": {
      "text/plain": [
       "array([0, 0, 1, 1, 0, 0, 1, 1, 1, 0], dtype=int64)"
      ]
     },
     "execution_count": 138,
     "metadata": {},
     "output_type": "execute_result"
    }
   ],
   "source": [
    "y_pred_knn_prob = knn.predict_proba(X_test)\n",
    "print(y_pred_knn_prob[0:10])\n",
    "y_pred[0:10]"
   ]
  },
  {
   "cell_type": "code",
   "execution_count": 139,
   "metadata": {},
   "outputs": [],
   "source": [
    "knn_fpr, knn_tpr, knn_thresholds = roc_curve(y_test, y_pred_knn_prob[:,1])"
   ]
  },
  {
   "cell_type": "code",
   "execution_count": 140,
   "metadata": {},
   "outputs": [
    {
     "name": "stdout",
     "output_type": "stream",
     "text": [
      "[0.         0.         0.09876543 0.22222222 1.        ]\n",
      "[0.93442623 0.95081967 0.97540984 0.98360656 1.        ]\n",
      "[1.  0.8 0.4 0.2 0. ]\n"
     ]
    },
    {
     "data": {
      "text/plain": [
       "numpy.ndarray"
      ]
     },
     "execution_count": 140,
     "metadata": {},
     "output_type": "execute_result"
    }
   ],
   "source": [
    "print(knn_fpr)\n",
    "print(knn_tpr)\n",
    "print(knn_thresholds)\n",
    "type(knn_tpr)"
   ]
  },
  {
   "cell_type": "code",
   "execution_count": 141,
   "metadata": {},
   "outputs": [
    {
     "data": {
      "image/png": "[encoded data removed]",
      "text/plain": [
       "<Figure size 432x288 with 1 Axes>"
      ]
     },
     "metadata": {},
     "output_type": "display_data"
    }
   ],
   "source": [
    "plt.plot([0,1], [0,1], \"k--\")\n",
    "plt.plot(knn_fpr, knn_tpr, label=\"KNN\")\n",
    "plt.xlabel(\"False Positive Rate\")\n",
    "plt.ylabel(\"True Positive Rate\")\n",
    "plt.title(\"KNN ROC curve\");"
   ]
  },
  {
   "cell_type": "code",
   "execution_count": 120,
   "metadata": {},
   "outputs": [
    {
     "name": "stdout",
     "output_type": "stream",
     "text": [
      "auc score knn :  0.9920056668690549\n"
     ]
    }
   ],
   "source": [
    "auc_score_knn = roc_auc_score(y_test, y_pred_knn_prob[:,1])\n",
    "print(\"auc score knn : \", auc_score_knn)"
   ]
  },
  {
   "cell_type": "code",
   "execution_count": null,
   "metadata": {},
   "outputs": [],
   "source": []
  }
 ],
 "metadata": {
  "kernelspec": {
   "display_name": "Python 3",
   "language": "python",
   "name": "python3"
  },
  "language_info": {
   "codemirror_mode": {
    "name": "ipython",
    "version": 3
   },
   "file_extension": ".py",
   "mimetype": "text/x-python",
   "name": "python",
   "nbconvert_exporter": "python",
   "pygments_lexer": "ipython3",
   "version": "3.6.4"
  }
 },
 "nbformat": 4,
 "nbformat_minor": 2
}
