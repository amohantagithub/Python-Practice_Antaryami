{
 "cells": [
  {
   "cell_type": "code",
   "execution_count": 1,
   "metadata": {},
   "outputs": [],
   "source": [
    "import os\n",
    "import sys\n",
    "import numpy as np\n",
    "import pandas as pd\n",
    "import matplotlib.pyplot as plt\n",
    "import seaborn as sns\n",
    "# machine learning libraries\n",
    "from sklearn import datasets\n",
    "from sklearn.model_selection import train_test_split\n",
    "from sklearn.neighbors import KNeighborsClassifier\n",
    "from sklearn.linear_model import LogisticRegression\n",
    "from sklearn.metrics import confusion_matrix\n",
    "from sklearn.metrics import classification_report\n",
    "from sklearn.metrics import roc_curve\n",
    "from sklearn.metrics import roc_auc_score\n",
    "plt.style.use(\"ggplot\")\n",
    "%matplotlib inline"
   ]
  },
  {
   "cell_type": "code",
   "execution_count": 2,
   "metadata": {},
   "outputs": [],
   "source": [
    "HData = pd.read_csv('dataset.csv')"
   ]
  },
  {
   "cell_type": "code",
   "execution_count": 3,
   "metadata": {},
   "outputs": [
    {
     "name": "stdout",
     "output_type": "stream",
     "text": [
      "Index(['var0', 'var1', 'var2', 'var3', 'var4', 'var5', 'var6', 'var7', 'var8',\n",
      "       'var9', 'var10', 'var11', 'var12', 'var13', 'var14', 'var15', 'var16',\n",
      "       'var17', 'var18', 'var19', 'var20', 'var21', 'var22', 'var23', 'var24',\n",
      "       'var25', 'var26', 'var27', 'var28', 'var29', 'var30', 'var31', 'var32',\n",
      "       'var33', 'var34', 'var35', 'var36', 'var37', 'var38', 'var39', 'var40',\n",
      "       'var41', 'var42', 'var43', 'var44', 'var45', 'var46', 'var47', 'var48',\n",
      "       'var49', 'var50', 'var51', 'var52', 'var53', 'var54', 'var55', 'var56',\n",
      "       'var57', 'var58', 'var59', 'var60', 'var61', 'var62', 'var63', 'var64',\n",
      "       'var65', 'var66', 'var67', 'var68', 'var69', 'var70', 'var71', 'var72',\n",
      "       'var73', 'var74', 'var75', 'var76', 'var77', 'var78', 'var79', 'var80'],\n",
      "      dtype='object')\n"
     ]
    }
   ],
   "source": [
    "print(HData.keys())"
   ]
  },
  {
   "cell_type": "code",
   "execution_count": 4,
   "metadata": {},
   "outputs": [
    {
     "data": {
      "text/html": [
       "<div>\n",
       "<style scoped>\n",
       "    .dataframe tbody tr th:only-of-type {\n",
       "        vertical-align: middle;\n",
       "    }\n",
       "\n",
       "    .dataframe tbody tr th {\n",
       "        vertical-align: top;\n",
       "    }\n",
       "\n",
       "    .dataframe thead th {\n",
       "        text-align: right;\n",
       "    }\n",
       "</style>\n",
       "<table border=\"1\" class=\"dataframe\">\n",
       "  <thead>\n",
       "    <tr style=\"text-align: right;\">\n",
       "      <th></th>\n",
       "      <th>var0</th>\n",
       "      <th>var1</th>\n",
       "      <th>var2</th>\n",
       "      <th>var3</th>\n",
       "      <th>var4</th>\n",
       "      <th>var5</th>\n",
       "      <th>var6</th>\n",
       "      <th>var7</th>\n",
       "      <th>var8</th>\n",
       "      <th>var9</th>\n",
       "      <th>...</th>\n",
       "      <th>var71</th>\n",
       "      <th>var72</th>\n",
       "      <th>var73</th>\n",
       "      <th>var74</th>\n",
       "      <th>var75</th>\n",
       "      <th>var76</th>\n",
       "      <th>var77</th>\n",
       "      <th>var78</th>\n",
       "      <th>var79</th>\n",
       "      <th>var80</th>\n",
       "    </tr>\n",
       "  </thead>\n",
       "  <tbody>\n",
       "    <tr>\n",
       "      <th>0</th>\n",
       "      <td>NaN</td>\n",
       "      <td>NaN</td>\n",
       "      <td>NaN</td>\n",
       "      <td>NaN</td>\n",
       "      <td>NaN</td>\n",
       "      <td>NaN</td>\n",
       "      <td>NaN</td>\n",
       "      <td>NaN</td>\n",
       "      <td>NaN</td>\n",
       "      <td>NaN</td>\n",
       "      <td>...</td>\n",
       "      <td>0.780088</td>\n",
       "      <td>NaN</td>\n",
       "      <td>NaN</td>\n",
       "      <td>NaN</td>\n",
       "      <td>0.803526</td>\n",
       "      <td>NaN</td>\n",
       "      <td>NaN</td>\n",
       "      <td>NaN</td>\n",
       "      <td>NaN</td>\n",
       "      <td>1</td>\n",
       "    </tr>\n",
       "    <tr>\n",
       "      <th>1</th>\n",
       "      <td>NaN</td>\n",
       "      <td>NaN</td>\n",
       "      <td>NaN</td>\n",
       "      <td>NaN</td>\n",
       "      <td>NaN</td>\n",
       "      <td>NaN</td>\n",
       "      <td>NaN</td>\n",
       "      <td>NaN</td>\n",
       "      <td>NaN</td>\n",
       "      <td>NaN</td>\n",
       "      <td>...</td>\n",
       "      <td>NaN</td>\n",
       "      <td>NaN</td>\n",
       "      <td>NaN</td>\n",
       "      <td>NaN</td>\n",
       "      <td>0.561473</td>\n",
       "      <td>NaN</td>\n",
       "      <td>NaN</td>\n",
       "      <td>NaN</td>\n",
       "      <td>NaN</td>\n",
       "      <td>0</td>\n",
       "    </tr>\n",
       "    <tr>\n",
       "      <th>2</th>\n",
       "      <td>NaN</td>\n",
       "      <td>NaN</td>\n",
       "      <td>NaN</td>\n",
       "      <td>NaN</td>\n",
       "      <td>NaN</td>\n",
       "      <td>NaN</td>\n",
       "      <td>NaN</td>\n",
       "      <td>NaN</td>\n",
       "      <td>NaN</td>\n",
       "      <td>NaN</td>\n",
       "      <td>...</td>\n",
       "      <td>0.817810</td>\n",
       "      <td>NaN</td>\n",
       "      <td>NaN</td>\n",
       "      <td>NaN</td>\n",
       "      <td>NaN</td>\n",
       "      <td>NaN</td>\n",
       "      <td>NaN</td>\n",
       "      <td>NaN</td>\n",
       "      <td>NaN</td>\n",
       "      <td>1</td>\n",
       "    </tr>\n",
       "    <tr>\n",
       "      <th>3</th>\n",
       "      <td>NaN</td>\n",
       "      <td>NaN</td>\n",
       "      <td>NaN</td>\n",
       "      <td>NaN</td>\n",
       "      <td>NaN</td>\n",
       "      <td>NaN</td>\n",
       "      <td>NaN</td>\n",
       "      <td>NaN</td>\n",
       "      <td>NaN</td>\n",
       "      <td>NaN</td>\n",
       "      <td>...</td>\n",
       "      <td>0.734438</td>\n",
       "      <td>0.918015</td>\n",
       "      <td>NaN</td>\n",
       "      <td>NaN</td>\n",
       "      <td>NaN</td>\n",
       "      <td>NaN</td>\n",
       "      <td>NaN</td>\n",
       "      <td>NaN</td>\n",
       "      <td>NaN</td>\n",
       "      <td>0</td>\n",
       "    </tr>\n",
       "    <tr>\n",
       "      <th>4</th>\n",
       "      <td>NaN</td>\n",
       "      <td>NaN</td>\n",
       "      <td>NaN</td>\n",
       "      <td>NaN</td>\n",
       "      <td>NaN</td>\n",
       "      <td>NaN</td>\n",
       "      <td>NaN</td>\n",
       "      <td>NaN</td>\n",
       "      <td>NaN</td>\n",
       "      <td>NaN</td>\n",
       "      <td>...</td>\n",
       "      <td>NaN</td>\n",
       "      <td>NaN</td>\n",
       "      <td>NaN</td>\n",
       "      <td>NaN</td>\n",
       "      <td>NaN</td>\n",
       "      <td>NaN</td>\n",
       "      <td>NaN</td>\n",
       "      <td>NaN</td>\n",
       "      <td>NaN</td>\n",
       "      <td>1</td>\n",
       "    </tr>\n",
       "  </tbody>\n",
       "</table>\n",
       "<p>5 rows × 81 columns</p>\n",
       "</div>"
      ],
      "text/plain": [
       "   var0  var1  var2  var3  var4  var5  var6  var7  var8  var9  ...    \\\n",
       "0   NaN   NaN   NaN   NaN   NaN   NaN   NaN   NaN   NaN   NaN  ...     \n",
       "1   NaN   NaN   NaN   NaN   NaN   NaN   NaN   NaN   NaN   NaN  ...     \n",
       "2   NaN   NaN   NaN   NaN   NaN   NaN   NaN   NaN   NaN   NaN  ...     \n",
       "3   NaN   NaN   NaN   NaN   NaN   NaN   NaN   NaN   NaN   NaN  ...     \n",
       "4   NaN   NaN   NaN   NaN   NaN   NaN   NaN   NaN   NaN   NaN  ...     \n",
       "\n",
       "      var71     var72  var73  var74     var75  var76  var77  var78  var79  \\\n",
       "0  0.780088       NaN    NaN    NaN  0.803526    NaN    NaN    NaN    NaN   \n",
       "1       NaN       NaN    NaN    NaN  0.561473    NaN    NaN    NaN    NaN   \n",
       "2  0.817810       NaN    NaN    NaN       NaN    NaN    NaN    NaN    NaN   \n",
       "3  0.734438  0.918015    NaN    NaN       NaN    NaN    NaN    NaN    NaN   \n",
       "4       NaN       NaN    NaN    NaN       NaN    NaN    NaN    NaN    NaN   \n",
       "\n",
       "   var80  \n",
       "0      1  \n",
       "1      0  \n",
       "2      1  \n",
       "3      0  \n",
       "4      1  \n",
       "\n",
       "[5 rows x 81 columns]"
      ]
     },
     "execution_count": 4,
     "metadata": {},
     "output_type": "execute_result"
    }
   ],
   "source": [
    "HData.head()"
   ]
  },
  {
   "cell_type": "code",
   "execution_count": 5,
   "metadata": {},
   "outputs": [],
   "source": [
    "X= HData.drop('var80', axis =1).values\n",
    "y = HData['var80'].values\n",
    "y=y.reshape(-1,1)"
   ]
  },
  {
   "cell_type": "code",
   "execution_count": 6,
   "metadata": {},
   "outputs": [
    {
     "data": {
      "text/plain": [
       "(1012, 80)"
      ]
     },
     "execution_count": 6,
     "metadata": {},
     "output_type": "execute_result"
    }
   ],
   "source": [
    "X.shape"
   ]
  },
  {
   "cell_type": "code",
   "execution_count": 7,
   "metadata": {},
   "outputs": [
    {
     "data": {
      "text/plain": [
       "(1012, 1)"
      ]
     },
     "execution_count": 7,
     "metadata": {},
     "output_type": "execute_result"
    }
   ],
   "source": [
    "y.shape"
   ]
  },
  {
   "cell_type": "code",
   "execution_count": 8,
   "metadata": {},
   "outputs": [],
   "source": [
    "from sklearn.preprocessing import Imputer\n",
    "imp = Imputer(missing_values = 'NaN', strategy = 'mean', axis = 0)\n",
    "imp.fit(X)\n",
    "X=imp.transform(X)"
   ]
  },
  {
   "cell_type": "code",
   "execution_count": 9,
   "metadata": {},
   "outputs": [
    {
     "data": {
      "text/html": [
       "<div>\n",
       "<style scoped>\n",
       "    .dataframe tbody tr th:only-of-type {\n",
       "        vertical-align: middle;\n",
       "    }\n",
       "\n",
       "    .dataframe tbody tr th {\n",
       "        vertical-align: top;\n",
       "    }\n",
       "\n",
       "    .dataframe thead th {\n",
       "        text-align: right;\n",
       "    }\n",
       "</style>\n",
       "<table border=\"1\" class=\"dataframe\">\n",
       "  <thead>\n",
       "    <tr style=\"text-align: right;\">\n",
       "      <th></th>\n",
       "      <th>0</th>\n",
       "      <th>1</th>\n",
       "      <th>2</th>\n",
       "      <th>3</th>\n",
       "      <th>4</th>\n",
       "      <th>5</th>\n",
       "      <th>6</th>\n",
       "      <th>7</th>\n",
       "      <th>8</th>\n",
       "      <th>9</th>\n",
       "      <th>...</th>\n",
       "      <th>48</th>\n",
       "      <th>49</th>\n",
       "      <th>50</th>\n",
       "      <th>51</th>\n",
       "      <th>52</th>\n",
       "      <th>53</th>\n",
       "      <th>54</th>\n",
       "      <th>55</th>\n",
       "      <th>56</th>\n",
       "      <th>57</th>\n",
       "    </tr>\n",
       "  </thead>\n",
       "  <tbody>\n",
       "    <tr>\n",
       "      <th>0</th>\n",
       "      <td>0.541918</td>\n",
       "      <td>0.353806</td>\n",
       "      <td>0.731267</td>\n",
       "      <td>0.469247</td>\n",
       "      <td>0.428085</td>\n",
       "      <td>0.761168</td>\n",
       "      <td>0.316544</td>\n",
       "      <td>0.443298</td>\n",
       "      <td>0.375918</td>\n",
       "      <td>0.626712</td>\n",
       "      <td>...</td>\n",
       "      <td>0.845575</td>\n",
       "      <td>0.504025</td>\n",
       "      <td>0.780088</td>\n",
       "      <td>0.824518</td>\n",
       "      <td>0.494588</td>\n",
       "      <td>0.69771</td>\n",
       "      <td>0.803526</td>\n",
       "      <td>0.416034</td>\n",
       "      <td>0.50489</td>\n",
       "      <td>0.474636</td>\n",
       "    </tr>\n",
       "    <tr>\n",
       "      <th>1</th>\n",
       "      <td>0.541918</td>\n",
       "      <td>0.353806</td>\n",
       "      <td>0.731267</td>\n",
       "      <td>0.469247</td>\n",
       "      <td>0.428085</td>\n",
       "      <td>0.761168</td>\n",
       "      <td>0.316544</td>\n",
       "      <td>0.443298</td>\n",
       "      <td>0.375918</td>\n",
       "      <td>0.626712</td>\n",
       "      <td>...</td>\n",
       "      <td>0.955945</td>\n",
       "      <td>0.504025</td>\n",
       "      <td>0.791666</td>\n",
       "      <td>0.824518</td>\n",
       "      <td>0.494588</td>\n",
       "      <td>0.69771</td>\n",
       "      <td>0.561473</td>\n",
       "      <td>0.416034</td>\n",
       "      <td>0.50489</td>\n",
       "      <td>0.474636</td>\n",
       "    </tr>\n",
       "    <tr>\n",
       "      <th>2</th>\n",
       "      <td>0.541918</td>\n",
       "      <td>0.353806</td>\n",
       "      <td>0.731267</td>\n",
       "      <td>0.469247</td>\n",
       "      <td>0.428085</td>\n",
       "      <td>0.761168</td>\n",
       "      <td>0.316544</td>\n",
       "      <td>0.443298</td>\n",
       "      <td>0.375918</td>\n",
       "      <td>0.626712</td>\n",
       "      <td>...</td>\n",
       "      <td>0.845575</td>\n",
       "      <td>0.504025</td>\n",
       "      <td>0.817810</td>\n",
       "      <td>0.824518</td>\n",
       "      <td>0.494588</td>\n",
       "      <td>0.69771</td>\n",
       "      <td>0.605281</td>\n",
       "      <td>0.416034</td>\n",
       "      <td>0.50489</td>\n",
       "      <td>0.474636</td>\n",
       "    </tr>\n",
       "    <tr>\n",
       "      <th>3</th>\n",
       "      <td>0.541918</td>\n",
       "      <td>0.353806</td>\n",
       "      <td>0.731267</td>\n",
       "      <td>0.469247</td>\n",
       "      <td>0.428085</td>\n",
       "      <td>0.761168</td>\n",
       "      <td>0.316544</td>\n",
       "      <td>0.443298</td>\n",
       "      <td>0.375918</td>\n",
       "      <td>0.626712</td>\n",
       "      <td>...</td>\n",
       "      <td>0.990744</td>\n",
       "      <td>0.504025</td>\n",
       "      <td>0.734438</td>\n",
       "      <td>0.918015</td>\n",
       "      <td>0.494588</td>\n",
       "      <td>0.69771</td>\n",
       "      <td>0.605281</td>\n",
       "      <td>0.416034</td>\n",
       "      <td>0.50489</td>\n",
       "      <td>0.474636</td>\n",
       "    </tr>\n",
       "    <tr>\n",
       "      <th>4</th>\n",
       "      <td>0.541918</td>\n",
       "      <td>0.353806</td>\n",
       "      <td>0.731267</td>\n",
       "      <td>0.469247</td>\n",
       "      <td>0.428085</td>\n",
       "      <td>0.761168</td>\n",
       "      <td>0.316544</td>\n",
       "      <td>0.443298</td>\n",
       "      <td>0.375918</td>\n",
       "      <td>0.626712</td>\n",
       "      <td>...</td>\n",
       "      <td>0.845575</td>\n",
       "      <td>0.504025</td>\n",
       "      <td>0.791666</td>\n",
       "      <td>0.824518</td>\n",
       "      <td>0.494588</td>\n",
       "      <td>0.69771</td>\n",
       "      <td>0.605281</td>\n",
       "      <td>0.416034</td>\n",
       "      <td>0.50489</td>\n",
       "      <td>0.474636</td>\n",
       "    </tr>\n",
       "  </tbody>\n",
       "</table>\n",
       "<p>5 rows × 58 columns</p>\n",
       "</div>"
      ],
      "text/plain": [
       "         0         1         2         3         4         5         6   \\\n",
       "0  0.541918  0.353806  0.731267  0.469247  0.428085  0.761168  0.316544   \n",
       "1  0.541918  0.353806  0.731267  0.469247  0.428085  0.761168  0.316544   \n",
       "2  0.541918  0.353806  0.731267  0.469247  0.428085  0.761168  0.316544   \n",
       "3  0.541918  0.353806  0.731267  0.469247  0.428085  0.761168  0.316544   \n",
       "4  0.541918  0.353806  0.731267  0.469247  0.428085  0.761168  0.316544   \n",
       "\n",
       "         7         8         9     ...           48        49        50  \\\n",
       "0  0.443298  0.375918  0.626712    ...     0.845575  0.504025  0.780088   \n",
       "1  0.443298  0.375918  0.626712    ...     0.955945  0.504025  0.791666   \n",
       "2  0.443298  0.375918  0.626712    ...     0.845575  0.504025  0.817810   \n",
       "3  0.443298  0.375918  0.626712    ...     0.990744  0.504025  0.734438   \n",
       "4  0.443298  0.375918  0.626712    ...     0.845575  0.504025  0.791666   \n",
       "\n",
       "         51        52       53        54        55       56        57  \n",
       "0  0.824518  0.494588  0.69771  0.803526  0.416034  0.50489  0.474636  \n",
       "1  0.824518  0.494588  0.69771  0.561473  0.416034  0.50489  0.474636  \n",
       "2  0.824518  0.494588  0.69771  0.605281  0.416034  0.50489  0.474636  \n",
       "3  0.918015  0.494588  0.69771  0.605281  0.416034  0.50489  0.474636  \n",
       "4  0.824518  0.494588  0.69771  0.605281  0.416034  0.50489  0.474636  \n",
       "\n",
       "[5 rows x 58 columns]"
      ]
     },
     "execution_count": 9,
     "metadata": {},
     "output_type": "execute_result"
    }
   ],
   "source": [
    "dX=pd.DataFrame(X)  \n",
    "dX.head()"
   ]
  },
  {
   "cell_type": "code",
   "execution_count": null,
   "metadata": {},
   "outputs": [],
   "source": [
    "# How to preserve the column names after imputing mean values in place of missing values"
   ]
  },
  {
   "cell_type": "code",
   "execution_count": 10,
   "metadata": {},
   "outputs": [],
   "source": [
    "X_train, X_test, y_train, y_test = train_test_split(X, y, test_size = 0.4, random_state = 21, stratify = y)"
   ]
  },
  {
   "cell_type": "code",
   "execution_count": 11,
   "metadata": {},
   "outputs": [],
   "source": [
    "knn = KNeighborsClassifier(n_neighbors=8)"
   ]
  },
  {
   "cell_type": "code",
   "execution_count": 12,
   "metadata": {},
   "outputs": [
    {
     "name": "stderr",
     "output_type": "stream",
     "text": [
      "C:\\Users\\mant\\AppData\\Local\\Continuum\\anaconda3\\lib\\site-packages\\ipykernel_launcher.py:1: DataConversionWarning: A column-vector y was passed when a 1d array was expected. Please change the shape of y to (n_samples, ), for example using ravel().\n",
      "  \"\"\"Entry point for launching an IPython kernel.\n"
     ]
    },
    {
     "data": {
      "text/plain": [
       "KNeighborsClassifier(algorithm='auto', leaf_size=30, metric='minkowski',\n",
       "           metric_params=None, n_jobs=1, n_neighbors=8, p=2,\n",
       "           weights='uniform')"
      ]
     },
     "execution_count": 12,
     "metadata": {},
     "output_type": "execute_result"
    }
   ],
   "source": [
    "knn.fit(X_train, y_train)"
   ]
  },
  {
   "cell_type": "code",
   "execution_count": 13,
   "metadata": {},
   "outputs": [],
   "source": [
    "y_pred = knn.predict(X_test)"
   ]
  },
  {
   "cell_type": "code",
   "execution_count": 14,
   "metadata": {},
   "outputs": [
    {
     "name": "stdout",
     "output_type": "stream",
     "text": [
      "Test set predictions:\n",
      " [1 1 0 1 1 0 0 1 1 0 0 0 0 1 0 1 1 1 1 0 0 0 1 1 1 0 0 0 1 1 1 0 1 1 1 1 1\n",
      " 1 1 1 0 1 1 1 0 1 0 1 1 0 0 1 1 1 1 1 1 0 1 1 1 1 1 1 1 1 0 1 0 0 1 1 1 0\n",
      " 1 1 0 1 1 1 1 1 1 0 1 1 1 1 0 1 1 1 1 0 1 1 1 1 1 1 1 1 1 0 1 1 1 1 1 1 1\n",
      " 0 1 1 1 1 1 1 0 0 1 1 0 1 1 1 0 1 0 0 0 0 1 1 0 1 1 1 1 1 0 0 0 1 1 1 0 1\n",
      " 0 0 1 1 1 1 1 1 1 1 1 1 1 1 1 1 1 1 1 1 0 1 0 1 0 0 0 0 1 1 1 0 1 0 1 0 1\n",
      " 0 1 0 1 0 0 1 1 1 1 1 1 1 1 1 1 1 0 0 1 1 1 1 1 1 1 1 0 1 1 0 1 1 1 0 0 1\n",
      " 1 1 1 1 1 1 1 1 1 1 1 0 1 1 1 1 1 0 1 1 1 0 1 1 0 1 1 1 0 1 0 0 1 1 0 1 1\n",
      " 1 1 1 1 1 0 1 1 0 1 1 1 0 1 0 1 1 1 0 1 1 1 1 0 0 1 0 1 1 1 0 1 0 1 1 0 1\n",
      " 1 1 0 1 1 1 1 1 1 0 1 1 0 1 1 1 0 1 1 1 1 1 0 0 1 1 1 0 1 0 0 1 1 1 0 0 0\n",
      " 1 1 1 1 0 1 1 1 0 1 1 1 1 1 1 1 1 1 1 1 0 0 0 1 1 1 0 0 1 0 0 1 1 0 1 1 1\n",
      " 0 1 1 1 1 1 0 1 1 1 1 0 1 1 1 1 1 1 1 1 0 0 0 1 1 0 0 0 1 1 1 1 1 0 1]\n"
     ]
    }
   ],
   "source": [
    "print(\"Test set predictions:\\n {}\".format(y_pred))"
   ]
  },
  {
   "cell_type": "code",
   "execution_count": 15,
   "metadata": {},
   "outputs": [
    {
     "data": {
      "text/plain": [
       "0.8024691358024691"
      ]
     },
     "execution_count": 15,
     "metadata": {},
     "output_type": "execute_result"
    }
   ],
   "source": [
    "knn.score(X_test, y_test)"
   ]
  },
  {
   "cell_type": "code",
   "execution_count": 16,
   "metadata": {},
   "outputs": [
    {
     "name": "stdout",
     "output_type": "stream",
     "text": [
      "[[ 99  63]\n",
      " [ 17 226]]\n"
     ]
    }
   ],
   "source": [
    "print(confusion_matrix(y_test, y_pred))"
   ]
  },
  {
   "cell_type": "code",
   "execution_count": 17,
   "metadata": {},
   "outputs": [
    {
     "name": "stdout",
     "output_type": "stream",
     "text": [
      "[[226  17]\n",
      " [ 63  99]]\n",
      "TP 226, FN 17, FP 63, TN 99 \n",
      "accuracy :  0.8024691358024691\n"
     ]
    }
   ],
   "source": [
    "print(confusion_matrix(y_test, y_pred, labels=[1,0]))\n",
    "TN, FP, FN, TP = confusion_matrix(y_test, y_pred, labels=[1,0]).ravel()\n",
    "print(\"TP {}, FN {}, FP {}, TN {} \".format(TN, FP, FN, TP))\n",
    "print(\"accuracy : \", (TP+TN)/(TP+TN+FP+FN))"
   ]
  },
  {
   "cell_type": "code",
   "execution_count": 18,
   "metadata": {},
   "outputs": [
    {
     "name": "stdout",
     "output_type": "stream",
     "text": [
      "             precision    recall  f1-score   support\n",
      "\n",
      "          0       0.85      0.61      0.71       162\n",
      "          1       0.78      0.93      0.85       243\n",
      "\n",
      "avg / total       0.81      0.80      0.79       405\n",
      "\n"
     ]
    }
   ],
   "source": [
    "print(classification_report(y_test, y_pred))"
   ]
  },
  {
   "cell_type": "code",
   "execution_count": 19,
   "metadata": {},
   "outputs": [
    {
     "name": "stdout",
     "output_type": "stream",
     "text": [
      "[[0.    1.   ]\n",
      " [0.    1.   ]\n",
      " [0.75  0.25 ]\n",
      " [0.375 0.625]\n",
      " [0.375 0.625]\n",
      " [0.875 0.125]\n",
      " [0.625 0.375]\n",
      " [0.125 0.875]\n",
      " [0.125 0.875]\n",
      " [0.75  0.25 ]]\n"
     ]
    },
    {
     "data": {
      "text/plain": [
       "array([1, 1, 0, 1, 1, 0, 0, 1, 1, 0], dtype=int64)"
      ]
     },
     "execution_count": 19,
     "metadata": {},
     "output_type": "execute_result"
    }
   ],
   "source": [
    "y_pred_knn_prob = knn.predict_proba(X_test)\n",
    "print(y_pred_knn_prob[0:10])\n",
    "y_pred[0:10]"
   ]
  },
  {
   "cell_type": "code",
   "execution_count": 20,
   "metadata": {},
   "outputs": [],
   "source": [
    "knn_fpr, knn_tpr, knn_thresholds = roc_curve(y_test, y_pred_knn_prob[:,1])"
   ]
  },
  {
   "cell_type": "code",
   "execution_count": 21,
   "metadata": {},
   "outputs": [
    {
     "name": "stdout",
     "output_type": "stream",
     "text": [
      "[0.         0.0617284  0.16666667 0.25308642 0.38888889 0.47530864\n",
      " 0.54320988 0.70987654 0.82098765 1.        ]\n",
      "[0.         0.6872428  0.82716049 0.90534979 0.93004115 0.97119342\n",
      " 0.98353909 1.         1.         1.        ]\n",
      "[2.    1.    0.875 0.75  0.625 0.5   0.375 0.25  0.125 0.   ]\n"
     ]
    },
    {
     "data": {
      "text/plain": [
       "numpy.ndarray"
      ]
     },
     "execution_count": 21,
     "metadata": {},
     "output_type": "execute_result"
    }
   ],
   "source": [
    "print(knn_fpr)\n",
    "print(knn_tpr)\n",
    "print(knn_thresholds)\n",
    "type(knn_tpr)"
   ]
  },
  {
   "cell_type": "code",
   "execution_count": 22,
   "metadata": {},
   "outputs": [
    {
     "data": {
      "image/png": "[encoded data removed]",
      "text/plain": [
       "<Figure size 432x288 with 1 Axes>"
      ]
     },
     "metadata": {},
     "output_type": "display_data"
    }
   ],
   "source": [
    "plt.plot([0,1], [0,1], \"k--\")\n",
    "plt.plot(knn_fpr, knn_tpr, label=\"KNN\")\n",
    "plt.xlabel(\"False Positive Rate\")\n",
    "plt.ylabel(\"True Positive Rate\")\n",
    "plt.title(\"KNN ROC curve\");"
   ]
  },
  {
   "cell_type": "code",
   "execution_count": 23,
   "metadata": {},
   "outputs": [
    {
     "name": "stdout",
     "output_type": "stream",
     "text": [
      "auc score knn :  0.9040923639689072\n"
     ]
    }
   ],
   "source": [
    "auc_score_knn = roc_auc_score(y_test, y_pred_knn_prob[:,1])\n",
    "print(\"auc score knn : \", auc_score_knn)"
   ]
  },
  {
   "cell_type": "code",
   "execution_count": null,
   "metadata": {},
   "outputs": [],
   "source": []
  }
 ],
 "metadata": {
  "kernelspec": {
   "display_name": "Python 3",
   "language": "python",
   "name": "python3"
  },
  "language_info": {
   "codemirror_mode": {
    "name": "ipython",
    "version": 3
   },
   "file_extension": ".py",
   "mimetype": "text/x-python",
   "name": "python",
   "nbconvert_exporter": "python",
   "pygments_lexer": "ipython3",
   "version": "3.6.4"
  }
 },
 "nbformat": 4,
 "nbformat_minor": 2
}
